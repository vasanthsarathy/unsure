{
 "cells": [
  {
   "cell_type": "code",
   "execution_count": 1,
   "id": "dc375d80",
   "metadata": {},
   "outputs": [],
   "source": [
    "from unsure.boe import BOE"
   ]
  },
  {
   "cell_type": "code",
   "execution_count": 2,
   "id": "ad58263b",
   "metadata": {},
   "outputs": [],
   "source": [
    "current =  {'[]': 0, \"['prosocial']\": 0.0, \"['antisocial']\": 0.4828184972371511, \"['neutral']\": 0.0, \"['prosocial', 'antisocial']\": 0.0, \"['prosocial', 'neutral']\": 0.517181502762849, \"['antisocial', 'neutral']\": 0.0, \"['prosocial', 'antisocial', 'neutral']\": 0.0}\n",
    "new = {'[]': 0, \"['prosocial']\": 0.0, \"['antisocial']\": 0.0430110415272211, \"['neutral']\": 0.0, \"['prosocial', 'antisocial']\": 0.0, \"['prosocial', 'neutral']\": 0.956988958472779, \"['antisocial', 'neutral']\": 0.0, \"['prosocial', 'antisocial', 'neutral']\": 0.0}\n",
    "\n",
    "sociality_frame = ['prosocial', 'antisocial', 'neutral']\n",
    "\n",
    "current_boe = BOE(sociality_frame)\n",
    "new_boe = BOE(sociality_frame)\n",
    "\n",
    "current_boe.set_masses(current)\n",
    "new_boe.set_masses(new)\n",
    "\n"
   ]
  },
  {
   "cell_type": "code",
   "execution_count": 3,
   "id": "bb01aa61",
   "metadata": {},
   "outputs": [
    {
     "name": "stdout",
     "output_type": "stream",
     "text": [
      "Before Update:  {'[]': 0, \"['prosocial']\": 0.0, \"['antisocial']\": 0.4828184972371511, \"['neutral']\": 0.0, \"['prosocial', 'antisocial']\": 0.0, \"['prosocial', 'neutral']\": 0.517181502762849, \"['antisocial', 'neutral']\": 0.0, \"['prosocial', 'antisocial', 'neutral']\": 0.0}\n",
      "After Update:  {'[]': 0.0, \"['prosocial']\": 0.0, \"['antisocial']\": 0.2521620090003808, \"['neutral']\": 0.0, \"['prosocial', 'antisocial']\": 0.0, \"['prosocial', 'neutral']\": 0.5753659530765951, \"['antisocial', 'neutral']\": 0.0, \"['prosocial', 'antisocial', 'neutral']\": 0.0}\n"
     ]
    }
   ],
   "source": [
    "print(\"Before Update: \", current_boe.get_masses())\n",
    "current_boe.update(new_boe, alpha=0.5)\n",
    "print(\"After Update: \", current_boe.get_masses())\n"
   ]
  },
  {
   "cell_type": "code",
   "execution_count": null,
   "id": "08ea82e4",
   "metadata": {},
   "outputs": [],
   "source": []
  }
 ],
 "metadata": {
  "kernelspec": {
   "display_name": "Python 3 (ipykernel)",
   "language": "python",
   "name": "python3"
  },
  "language_info": {
   "codemirror_mode": {
    "name": "ipython",
    "version": 3
   },
   "file_extension": ".py",
   "mimetype": "text/x-python",
   "name": "python",
   "nbconvert_exporter": "python",
   "pygments_lexer": "ipython3",
   "version": "3.8.5"
  },
  "toc": {
   "base_numbering": 1,
   "nav_menu": {},
   "number_sections": true,
   "sideBar": true,
   "skip_h1_title": false,
   "title_cell": "Table of Contents",
   "title_sidebar": "Contents",
   "toc_cell": false,
   "toc_position": {},
   "toc_section_display": true,
   "toc_window_display": true
  }
 },
 "nbformat": 4,
 "nbformat_minor": 5
}
